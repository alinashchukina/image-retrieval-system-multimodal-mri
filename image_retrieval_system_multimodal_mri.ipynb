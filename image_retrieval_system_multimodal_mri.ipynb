{
  "cells": [
    {
      "cell_type": "code",
      "execution_count": null,
      "metadata": {
        "id": "2Mb0Bo1nG7MS"
      },
      "outputs": [],
      "source": [
        "!pip install pydicom"
      ]
    },
    {
      "cell_type": "code",
      "execution_count": null,
      "metadata": {
        "colab": {
          "background_save": true
        },
        "id": "hOQyg4bOJzLK"
      },
      "outputs": [],
      "source": [
        "import os\n",
        "import random\n",
        "import math\n",
        "import numpy as np\n",
        "import pandas as pd\n",
        "import pydicom\n",
        "from tqdm import tqdm\n",
        "import glob\n",
        "from PIL import Image, ImageDraw\n",
        "import cv2\n",
        "import json\n",
        "\n",
        "import torch\n",
        "import torch.nn as nn\n",
        "import torch.optim as optim\n",
        "from torch.optim import lr_scheduler\n",
        "from torch.utils.data import Dataset, DataLoader\n",
        "\n",
        "import torchvision\n",
        "import torchvision.transforms.functional as F\n",
        "from torchvision import datasets, models, transforms\n",
        "\n",
        "from IPython.display import clear_output\n",
        "from sklearn.model_selection import train_test_split\n",
        "from sklearn.metrics import accuracy_score\n",
        "import matplotlib.pyplot as plt"
      ]
    },
    {
      "cell_type": "markdown",
      "source": [
        "# Part 1. Convolutional neural network"
      ],
      "metadata": {
        "id": "cPdzgLLBR_mp"
      }
    },
    {
      "cell_type": "code",
      "execution_count": null,
      "metadata": {
        "id": "R3XGfFaYR4Fw"
      },
      "outputs": [],
      "source": [
        "def get_transform(target_size):\n",
        "    transform = []\n",
        "    transform.append(transforms.ToTensor())\n",
        "    transform.append(transforms.Resize(target_size))\n",
        "    return transforms.Compose(transform)"
      ]
    },
    {
      "cell_type": "code",
      "execution_count": null,
      "metadata": {
        "id": "VjiMDrxFR34H"
      },
      "outputs": [],
      "source": [
        "class TrainData(Dataset):\n",
        "    def __init__(self, all_paths, target_size=(512, 512)):\n",
        "        self.all_paths = all_paths\n",
        "        self.class_mapper = {'FLAIR':0, 'T1w':1, 'T1wCE':2, 'T2w':3}\n",
        "        self.target_size = target_size\n",
        "\n",
        "    def __len__(self) -> int:\n",
        "        return len(self.all_paths)\n",
        "        \n",
        "    def __getitem__(self, idx):\n",
        "        if torch.is_tensor(idx):\n",
        "            idx = idx.tolist()\n",
        "\n",
        "        img_name = self.all_paths[idx]\n",
        "        dicom = pydicom.read_file(img_name)\n",
        "        image = dicom.pixel_array\n",
        "        image = np.repeat(image[..., np.newaxis], 3, -1)\n",
        "        image = image.astype(int)\n",
        "\n",
        "        preprocess = get_transform(self.target_size)\n",
        "        image = preprocess(image)\n",
        "        \n",
        "        name = img_name.split('/')[-2]\n",
        "        target = self.class_mapper[name]\n",
        "        labels = torch.tensor(target)\n",
        "\n",
        "        sample = {'image': image, 'label': labels, 'path': img_name}\n",
        "\n",
        "        return sample"
      ]
    },
    {
      "cell_type": "code",
      "execution_count": null,
      "metadata": {
        "id": "Uh1WxWQZrcCP"
      },
      "outputs": [],
      "source": [
        "with open('train_paths.json', 'r') as f:\n",
        "    images_train = json.load(f)\n",
        "with open('test_paths.json', 'r') as f:\n",
        "    images_test = json.load(f)\n",
        "\n",
        "images_train = [x[0] for x in images_train]\n",
        "images_test = [x[0] for x in images_test]"
      ]
    },
    {
      "cell_type": "code",
      "execution_count": null,
      "metadata": {
        "id": "KzjQDT16Zmog"
      },
      "outputs": [],
      "source": [
        "batch_size = 16\n",
        "train_dataset = TrainData(images_train)\n",
        "train_dataloader = torch.utils.data.DataLoader(train_dataset, batch_size=batch_size, shuffle=True)\n",
        "test_dataset = TrainData(images_test)\n",
        "test_dataloader = torch.utils.data.DataLoader(test_dataset, batch_size=batch_size, shuffle=True)"
      ]
    },
    {
      "cell_type": "code",
      "execution_count": null,
      "metadata": {
        "id": "UoMPRn_HcqH0"
      },
      "outputs": [],
      "source": [
        "batch_in_epoch = len(train_dataset) / batch_size\n",
        "\n",
        "def plot_progress(train_losses, train_accs, test_losses, test_accs):\n",
        "    clear_output(True)\n",
        "    \n",
        "    f, (ax1, ax2) = plt.subplots(nrows=1, ncols=2)\n",
        "    f.set_figheight(6)\n",
        "    f.set_figwidth(20)\n",
        "\n",
        "    train_losses_show = train_losses.copy()\n",
        "    test_losses_show = test_losses.copy()\n",
        "\n",
        "    if len(train_losses) > 100:\n",
        "        train_losses_show = train_losses_show[50:]\n",
        "        test_losses_show = test_losses_show[50:]\n",
        "    \n",
        "    ax1.plot(train_losses_show, label='train loss')\n",
        "    ax1.plot(test_losses_show, label='val loss')\n",
        "    ax1.plot(np.zeros_like(train_losses), '--', label='zero')\n",
        "    ax1.set_title('Loss')\n",
        "    ax1.set_ylabel('Loss')\n",
        "    ax1.set_xlabel('Batch number')\n",
        "    ax1.legend()\n",
        "    \n",
        "    ax2.plot(train_accs, label='train acc')\n",
        "    ax2.plot(test_accs, label='val acc')\n",
        "    ax2.plot(np.ones_like(train_accs), '--', label='100% accuracy')\n",
        "    ax2.set_title('Accuracy')\n",
        "    ax2.set_ylabel('Accuracy')\n",
        "    ax2.set_xlabel('Batch number')\n",
        "    ax2.legend()\n",
        "    for i in range(int(len(train_accs) // batch_in_epoch)):\n",
        "        ax2.axvline(x = i * batch_in_epoch)\n",
        "\n",
        "    plt.show()"
      ]
    },
    {
      "cell_type": "code",
      "execution_count": null,
      "metadata": {
        "colab": {
          "base_uri": "https://localhost:8080/"
        },
        "id": "tyr2FgzudhXX",
        "outputId": "1161ba70-0411-41db-a56f-4fcced929f52"
      },
      "outputs": [
        {
          "name": "stdout",
          "output_type": "stream",
          "text": [
            "cuda:0\n"
          ]
        }
      ],
      "source": [
        "device = torch.device(\"cuda:0\" if torch.cuda.is_available() else \"cpu\")\n",
        "print(device)"
      ]
    },
    {
      "cell_type": "code",
      "execution_count": null,
      "metadata": {
        "id": "K7lctyP9dqdD"
      },
      "outputs": [],
      "source": [
        "model = models.efficientnet_b0(pretrained=False) \n",
        "\n",
        "in_features = model.classifier[1].in_features\n",
        "model.classifier[1] = nn.Linear(in_features, 4)\n",
        "\n",
        "model = model.to(device)\n",
        "\n",
        "criterion = nn.CrossEntropyLoss()\n",
        "optimizer = optim.Adam(model.parameters(), lr = 0.001, betas=(0.9, 0.999))"
      ]
    },
    {
      "cell_type": "code",
      "execution_count": null,
      "metadata": {
        "colab": {
          "base_uri": "https://localhost:8080/",
          "height": 404
        },
        "id": "TUhpoEMHdqU6",
        "outputId": "7364df85-0316-408b-d93e-0db1a60c03f9"
      },
      "outputs": [
        {
          "data": {
            "image/png": "[encoded data removed]",
            "text/plain": [
              "<Figure size 1440x432 with 2 Axes>"
            ]
          },
          "metadata": {},
          "output_type": "display_data"
        }
      ],
      "source": [
        "epochs = 10\n",
        "\n",
        "train_accs = []\n",
        "test_accs = []\n",
        "\n",
        "train_losses = []\n",
        "test_losses = []\n",
        "\n",
        "for epoch in range(epochs):\n",
        "    for train in train_dataloader:\n",
        "        model.train()\n",
        "        data_train = train['image'].to(device)\n",
        "        target_train = train['label'].to(device)\n",
        "\n",
        "        optimizer.zero_grad()\n",
        "        out_train = model(data_train.float())\n",
        "        _, preds_train = torch.max(out_train, 1)\n",
        "        train_loss = criterion(out_train, target_train)\n",
        "\n",
        "        train_loss.backward()\n",
        "        optimizer.step()\n",
        "        \n",
        "        test = next(iter(test_dataloader))\n",
        "        model.eval()\n",
        "        with torch.no_grad():\n",
        "            data_test = test['image'].to(device)\n",
        "            target_test = test['label'].to(device)\n",
        "            out_test = model(data_test.float())\n",
        "            _, preds_test = torch.max(out_test, 1)\n",
        "            test_loss = criterion(out_test, target_test)\n",
        "\n",
        "        train_accs.append(accuracy_score(train['label'], preds_train.cpu()))\n",
        "        test_accs.append(accuracy_score(test['label'], preds_test.cpu()))\n",
        "        \n",
        "        train_losses.append(train_loss.item())\n",
        "        test_losses.append(test_loss.item())\n",
        "        \n",
        "        plot_progress(train_losses, train_accs, test_losses, test_accs)\n",
        "    \n",
        "    torch.save({\n",
        "            'epoch': epoch,\n",
        "            'model_state_dict': model.state_dict(),\n",
        "            'optimizer_state_dict': optimizer.state_dict()\n",
        "            }, f'weights/efficientnet_epoch_{epoch}.pt')"
      ]
    },
    {
      "cell_type": "markdown",
      "source": [
        "# Part 2. Image retrieval"
      ],
      "metadata": {
        "id": "LJ6rM5zOSGdB"
      }
    },
    {
      "cell_type": "code",
      "execution_count": null,
      "metadata": {
        "id": "J_K23h5CdqOH"
      },
      "outputs": [],
      "source": [
        "checkpoint = torch.load('weights/efficientnet_epoch_1.pt')\n",
        "model.load_state_dict(checkpoint['model_state_dict'])\n",
        "optimizer.load_state_dict(checkpoint['optimizer_state_dict'])\n",
        "epoch = checkpoint['epoch']"
      ]
    },
    {
      "cell_type": "code",
      "execution_count": null,
      "metadata": {
        "id": "aw4CYvtBdqKM"
      },
      "outputs": [],
      "source": [
        "model = torch.nn.Sequential(*(list(model.children())[:-1]))"
      ]
    },
    {
      "cell_type": "code",
      "execution_count": null,
      "metadata": {
        "colab": {
          "base_uri": "https://localhost:8080/"
        },
        "id": "OhJeUYgPrMR5",
        "outputId": "7ec586c6-c87d-44e4-da9e-c55a0448f0b9"
      },
      "outputs": [
        {
          "name": "stderr",
          "output_type": "stream",
          "text": [
            "100%|██████████| 236/236 [15:28<00:00,  3.94s/it]\n"
          ]
        }
      ],
      "source": [
        "lst = []\n",
        "for sample in tqdm(test_dataloader):\n",
        "    out_test = model(sample['image'].to(device).float())\n",
        "    out_test = torch.squeeze(out_test).detach().cpu().numpy()\n",
        "    for i in range(len(sample['label'])):\n",
        "        lst.append([sample['path'][i], sample['label'][i], out_test[i]])"
      ]
    },
    {
      "cell_type": "code",
      "execution_count": null,
      "metadata": {
        "id": "H0Xc_m8v4RP7"
      },
      "outputs": [],
      "source": [
        "inv_mapper = {0: 'FLAIR', 1: 'T1w', 2: 'T1wCE', 3: 'T2w'}"
      ]
    },
    {
      "cell_type": "markdown",
      "source": [
        "## Euclidean distance"
      ],
      "metadata": {
        "id": "G2fQB-5PSYRx"
      }
    },
    {
      "cell_type": "code",
      "execution_count": null,
      "metadata": {
        "colab": {
          "base_uri": "https://localhost:8080/"
        },
        "id": "2cnY4U0j1bQK",
        "outputId": "8f5629b4-cfc2-4500-a4d4-4c80ae9d1f07"
      },
      "outputs": [
        {
          "name": "stderr",
          "output_type": "stream",
          "text": [
            "100%|██████████| 3775/3775 [02:34<00:00, 24.50it/s]\n"
          ]
        }
      ],
      "source": [
        "n = len(lst)\n",
        "results = np.zeros((n, n))\n",
        "for i in tqdm(range(n)):\n",
        "    for j in range(n):\n",
        "        if lst[i][0].split('/')[1] == lst[j][0].split('/')[1]:\n",
        "            results[i, j] = 1000000\n",
        "        else:\n",
        "            norm = np.linalg.norm(lst[i][2] - lst[j][2])\n",
        "            results[i, j] = norm"
      ]
    },
    {
      "cell_type": "code",
      "execution_count": null,
      "metadata": {
        "id": "WYEtlHEQ6AOM"
      },
      "outputs": [],
      "source": [
        "results_sorted = np.argsort(results)"
      ]
    },
    {
      "cell_type": "code",
      "execution_count": null,
      "metadata": {
        "colab": {
          "base_uri": "https://localhost:8080/"
        },
        "id": "c_Gz-oLS9Y2h",
        "outputId": "18139eb9-92cc-4ce9-9a13-c48d25051cfd"
      },
      "outputs": [
        {
          "data": {
            "text/plain": [
              "array([[1653, 1777, 1199, ..., 2684, 2622,    0],\n",
              "       [ 254,  938, 2704, ..., 2852, 3432,  342],\n",
              "       [ 790,  398, 2966, ..., 2670, 1679,  140],\n",
              "       ...,\n",
              "       [2152,  751, 1081, ..., 2900,  972, 1887],\n",
              "       [ 507, 2138, 1500, ..., 3212, 3214,  287],\n",
              "       [1130, 2719,  119, ..., 3434,  668, 3774]])"
            ]
          },
          "execution_count": 38,
          "metadata": {},
          "output_type": "execute_result"
        }
      ],
      "source": [
        "results_sorted"
      ]
    },
    {
      "cell_type": "markdown",
      "source": [
        "Accuracy for top-1 image:"
      ],
      "metadata": {
        "id": "M5KFkdUaSfYR"
      }
    },
    {
      "cell_type": "code",
      "execution_count": null,
      "metadata": {
        "colab": {
          "base_uri": "https://localhost:8080/"
        },
        "id": "AFvkAU567qqZ",
        "outputId": "b53e5036-ca26-4b26-bc30-897f7c1aa58a"
      },
      "outputs": [
        {
          "name": "stderr",
          "output_type": "stream",
          "text": [
            "100%|██████████| 3775/3775 [00:00<00:00, 127713.19it/s]"
          ]
        },
        {
          "name": "stdout",
          "output_type": "stream",
          "text": [
            "\n",
            "0.9139072847682119\n"
          ]
        },
        {
          "name": "stderr",
          "output_type": "stream",
          "text": [
            "\n"
          ]
        }
      ],
      "source": [
        "acc = 0\n",
        "for i in tqdm(range(n)):\n",
        "    if lst[i][1] == lst[results_sorted[i][0]][1]:\n",
        "        acc += 1\n",
        "print()\n",
        "print(acc / n)"
      ]
    },
    {
      "cell_type": "markdown",
      "source": [
        "Accuracy for top-5 image:"
      ],
      "metadata": {
        "id": "-yCXREPaSh_c"
      }
    },
    {
      "cell_type": "code",
      "execution_count": null,
      "metadata": {
        "colab": {
          "base_uri": "https://localhost:8080/"
        },
        "id": "zlzFqdzX82gL",
        "outputId": "3eb03b33-421c-42b7-83da-ab9ac67588c0"
      },
      "outputs": [
        {
          "name": "stderr",
          "output_type": "stream",
          "text": [
            "100%|██████████| 3775/3775 [00:00<00:00, 33120.18it/s]"
          ]
        },
        {
          "name": "stdout",
          "output_type": "stream",
          "text": [
            "\n",
            "0.9080794701986755\n"
          ]
        },
        {
          "name": "stderr",
          "output_type": "stream",
          "text": [
            "\n"
          ]
        }
      ],
      "source": [
        "acc = 0\n",
        "for i in tqdm(range(n)):\n",
        "    for j in range(5):\n",
        "        if lst[i][1] == lst[results_sorted[i][j]][1]:\n",
        "            acc += 1\n",
        "print()\n",
        "print(acc / (5 * n))"
      ]
    },
    {
      "cell_type": "markdown",
      "metadata": {
        "id": "uQtUAPFFAtzX"
      },
      "source": [
        "## kNN"
      ]
    },
    {
      "cell_type": "code",
      "execution_count": null,
      "metadata": {
        "id": "uMxPl_npAu2T"
      },
      "outputs": [],
      "source": [
        "p_test = {'00001', '00037', '00114'}\n",
        "p_train = {'00125', '00163', '00190', '00229', '00662', '00762'}\n",
        "X_train = np.array([i[2] for i in lst if i[0].split('/')[1] in p_train])\n",
        "y_train = np.array([i[1].numpy() for i in lst if i[0].split('/')[1] in p_train])\n",
        "X_test = np.array([i[2] for i in lst if i[0].split('/')[1] in p_test])\n",
        "y_test = np.array([i[1].numpy() for i in lst if i[0].split('/')[1] in p_test])"
      ]
    },
    {
      "cell_type": "markdown",
      "source": [
        "k=5 neigbours"
      ],
      "metadata": {
        "id": "9S6367yGSw3P"
      }
    },
    {
      "cell_type": "code",
      "execution_count": null,
      "metadata": {
        "colab": {
          "base_uri": "https://localhost:8080/"
        },
        "id": "TDAlDdgRDcU4",
        "outputId": "24d46f21-ca9c-4fec-f2b9-f9f4a8888da9"
      },
      "outputs": [
        {
          "data": {
            "text/plain": [
              "0.9456106870229007"
            ]
          },
          "execution_count": 59,
          "metadata": {},
          "output_type": "execute_result"
        }
      ],
      "source": [
        "neigh = KNeighborsClassifier(n_neighbors=5)\n",
        "neigh.fit(X_train, y_train)\n",
        "y_pred = neigh.predict(X_test)\n",
        "accuracy_score(y_test, y_pred)"
      ]
    },
    {
      "cell_type": "markdown",
      "source": [
        "k=3 neigbours"
      ],
      "metadata": {
        "id": "fiQpE0Z7S0go"
      }
    },
    {
      "cell_type": "code",
      "execution_count": null,
      "metadata": {
        "colab": {
          "base_uri": "https://localhost:8080/"
        },
        "id": "ppLTQXJcC9wc",
        "outputId": "27cdfbd5-686e-4c2a-dc75-67430c7827f7"
      },
      "outputs": [
        {
          "data": {
            "text/plain": [
              "0.9437022900763359"
            ]
          },
          "execution_count": 57,
          "metadata": {},
          "output_type": "execute_result"
        }
      ],
      "source": [
        "from sklearn.neighbors import KNeighborsClassifier\n",
        "neigh = KNeighborsClassifier(n_neighbors=3)\n",
        "neigh.fit(X_train, y_train)\n",
        "y_pred = neigh.predict(X_test)\n",
        "accuracy_score(y_test, y_pred)"
      ]
    },
    {
      "cell_type": "markdown",
      "source": [
        "k=1 neigbours"
      ],
      "metadata": {
        "id": "ERZABMe6S1_9"
      }
    },
    {
      "cell_type": "code",
      "execution_count": null,
      "metadata": {
        "colab": {
          "base_uri": "https://localhost:8080/"
        },
        "id": "Dfl8coezDceq",
        "outputId": "8dec9fb0-37ff-465a-efbb-3ce6b7c64a52"
      },
      "outputs": [
        {
          "data": {
            "text/plain": [
              "0.9389312977099237"
            ]
          },
          "execution_count": 58,
          "metadata": {},
          "output_type": "execute_result"
        }
      ],
      "source": [
        "neigh = KNeighborsClassifier(n_neighbors=1)\n",
        "neigh.fit(X_train, y_train)\n",
        "y_pred = neigh.predict(X_test)\n",
        "accuracy_score(y_test, y_pred)"
      ]
    }
  ],
  "metadata": {
    "colab": {
      "collapsed_sections": [],
      "name": "image-retrieval-system-multimodal-mri.ipynb",
      "provenance": []
    },
    "kernelspec": {
      "display_name": "Python 3",
      "name": "python3"
    },
    "language_info": {
      "name": "python"
    }
  },
  "nbformat": 4,
  "nbformat_minor": 0
}